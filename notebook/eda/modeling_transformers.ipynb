{
 "cells": [
  {
   "cell_type": "code",
   "execution_count": 2,
   "metadata": {},
   "outputs": [],
   "source": [
    "import os"
   ]
  },
  {
   "cell_type": "code",
   "execution_count": null,
   "metadata": {},
   "outputs": [],
   "source": [
    "#distilBERT"
   ]
  },
  {
   "cell_type": "code",
   "execution_count": 3,
   "metadata": {},
   "outputs": [
    {
     "data": {
      "text/plain": [
       "1"
      ]
     },
     "execution_count": 3,
     "metadata": {},
     "output_type": "execute_result"
    }
   ],
   "source": [
    "os.system(\"scripts/binarized_data.py \\\n",
    "    --file_path D:\\Benutzer\\Johannes\\git\\nlp-projekt\\data\\processed\\BWL_Corpus_cleaned.csv \\\n",
    "    --tokenizer_type bert \\\n",
    "    --tokenizer_name bert-base-uncased \\\n",
    "    --dump_file data/binarized_text\")"
   ]
  },
  {
   "cell_type": "code",
   "execution_count": null,
   "metadata": {},
   "outputs": [],
   "source": [
    "os.system(\"scripts/token_counts.py \\\n",
    "    --data_file data/binarized_text.bert-base-uncased.pickle \\\n",
    "    --token_counts_dump data/token_counts.bert-base-uncased.pickle \\\n",
    "    --vocab_size 30522\")"
   ]
  },
  {
   "cell_type": "code",
   "execution_count": null,
   "metadata": {},
   "outputs": [],
   "source": [
    "os.system(\"train.py \\\n",
    "    --student_type distilbert \\\n",
    "    --student_config training_configs/distilbert-base-uncased.json \\\n",
    "    --teacher_type bert \\\n",
    "    --teacher_name bert-base-uncased \\\n",
    "    --alpha_ce 5.0 --alpha_mlm 2.0 --alpha_cos 1.0 --alpha_clm 0.0 --mlm \\\n",
    "    --freeze_pos_embs \\\n",
    "    --dump_path serialization_dir/my_first_training \\\n",
    "    --data_file data/binarized_text.bert-base-uncased.pickle \\\n",
    "    --token_counts data/token_counts.bert-base-uncased.pickle \\\n",
    "    --force # overwrites the `dump_path` if it already exists.\")"
   ]
  },
  {
   "cell_type": "code",
   "execution_count": null,
   "metadata": {},
   "outputs": [],
   "source": [
    "#distilGPT2"
   ]
  },
  {
   "cell_type": "code",
   "execution_count": null,
   "metadata": {},
   "outputs": [],
   "source": [
    "os.system(\"scripts/binarized_data.py \\\n",
    "    --file_path D:\\Benutzer\\Johannes\\git\\nlp-projekt\\data\\processed\\BWL_Corpus_cleaned.csv \\\n",
    "    --tokenizer_type gpt2 \\\n",
    "    --tokenizer_name distilgpt2 \\\n",
    "    --dump_file data/binarized_text\")"
   ]
  },
  {
   "cell_type": "code",
   "execution_count": null,
   "metadata": {},
   "outputs": [],
   "source": [
    "os.system(\"scripts/token_counts.py \\\n",
    "    --data_file data/binarized_text.distilgpt2.pickle \\\n",
    "    --token_counts_dump data/token_counts.distilgpt2.pickle \\\n",
    "    --vocab_size 30522\")"
   ]
  },
  {
   "cell_type": "code",
   "execution_count": null,
   "metadata": {},
   "outputs": [],
   "source": [
    "os.system(\"train.py \\\n",
    "    --student_type distilgpt2 \\\n",
    "    --student_config training_configs/distilgpt2.json \\\n",
    "    --teacher_type gpt2 \\\n",
    "    --teacher_name distilgpt2 \\\n",
    "    --alpha_ce 5.0 --alpha_mlm 2.0 --alpha_cos 1.0 --alpha_clm 0.0 --mlm \\\n",
    "    --freeze_pos_embs \\\n",
    "    --dump_path serialization_dir/my_first_training \\\n",
    "    --data_file data/binarized_text.distilgpt2.pickle \\\n",
    "    --token_counts data/token_counts.distilgpt2.pickle \\\n",
    "    --force # overwrites the `dump_path` if it already exists.\")"
   ]
  }
 ],
 "metadata": {
  "kernelspec": {
   "display_name": "Python 3",
   "language": "python",
   "name": "python3"
  },
  "language_info": {
   "codemirror_mode": {
    "name": "ipython",
    "version": 3
   },
   "file_extension": ".py",
   "mimetype": "text/x-python",
   "name": "python",
   "nbconvert_exporter": "python",
   "pygments_lexer": "ipython3",
   "version": "3.7.4"
  }
 },
 "nbformat": 4,
 "nbformat_minor": 2
}
